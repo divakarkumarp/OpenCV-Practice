{
 "cells": [
  {
   "cell_type": "markdown",
   "metadata": {},
   "source": [
    "#### Introduction \n",
    "\n",
    "OpenCV, short for Open Source Computer Vision Library, is an open-source computer vision and machine learning software library. Originally developed by Intel, it is now maintained by a community of developers under the OpenCV Foundation.\n",
    "\n",
    "* Opencv is a huge open-source library for computer vision, machine learning, and image processing.\n",
    "\n",
    "* it plays a major role in real-time operation which is very important in today’s systems. By using it, one can process images and videos to identify objects, faces, or even the handwriting of a human.\n",
    "\n",
    "* The first OpenCV version was 1.0. OpenCV is released under a BSD license and hence it’s free for both academic and commercial use. \n",
    "* It has C++, C, Python, and Java interfaces and supports Windows, Linux, Mac OS, iOS and Android. \n",
    "* When opencv was designed the main focus was real-time applications for computational efficiency. All things are written in optimized C/C++ to take advantage of multi-core processing. \n",
    "\n",
    "##### Applications of OpenCV\n",
    "\n",
    "There are lots of applications which are solved using OpenCV, some of them are listed below:\n",
    "\n",
    "1. Face recognition\n",
    "2. Automated inspection and surveillance\n",
    "3. number of people – count (foot traffic in a mall, etc)\n",
    "4. Vehicle counting on highways along with their speeds\n",
    "5. Interactive art installations\n",
    "6. Anomaly (defect) detection in the manufacturing process (the odd defective products)\n",
    "7. Street view image stitching\n",
    "8. Video/image search and retrieval\n",
    "9. Robot and driver-less car navigation and control\n",
    "10. object recognition\n",
    "11. Medical image analysis\n",
    "12. Movies – 3D structure from motion\n",
    "13. TV Channels advertisement recognition"
   ]
  },
  {
   "cell_type": "code",
   "execution_count": 1,
   "metadata": {},
   "outputs": [],
   "source": [
    "# install the OpenCV library\n",
    "#!pip install opencv-python"
   ]
  },
  {
   "cell_type": "code",
   "execution_count": 2,
   "metadata": {},
   "outputs": [],
   "source": [
    "#!pip show opencv-python"
   ]
  },
  {
   "cell_type": "code",
   "execution_count": 3,
   "metadata": {},
   "outputs": [],
   "source": [
    "#!sudo apt-get update\n",
    "#!sudo apt-get install -y libgl1-mesa-glx"
   ]
  },
  {
   "cell_type": "code",
   "execution_count": 4,
   "metadata": {},
   "outputs": [
    {
     "data": {
      "text/plain": [
       "'\\n# Importing the OpenCV library\\nimport cv2\\nimport os\\n# Reading the image using imread() function\\nimage = cv2.imread(r\"\\u202abear.jpg\")\\n\\n# Extracting the height and width of an image\\nh, w = image.shape[:2]\\n# Displaying the height and width\\nprint(\"Height = {}, Width = {}\".format(h, w)'"
      ]
     },
     "execution_count": 4,
     "metadata": {},
     "output_type": "execute_result"
    }
   ],
   "source": [
    "'''\n",
    "# Importing the OpenCV library\n",
    "import cv2\n",
    "import os\n",
    "# Reading the image using imread() function\n",
    "image = cv2.imread(r\"‪bear.jpg\")\n",
    "\n",
    "# Extracting the height and width of an image\n",
    "h, w = image.shape[:2]\n",
    "# Displaying the height and width\n",
    "print(\"Height = {}, Width = {}\".format(h, w)'''"
   ]
  },
  {
   "cell_type": "code",
   "execution_count": 5,
   "metadata": {},
   "outputs": [
    {
     "name": "stdout",
     "output_type": "stream",
     "text": [
      "Current Working Directory: C:\\Users\\divak\\Downloads\n",
      "Image Path: bear.jpg\n",
      "Height = 2160, Width = 3840\n"
     ]
    }
   ],
   "source": [
    "import cv2\n",
    "import os\n",
    "\n",
    "# Function to check and load the image\n",
    "def load_image(image_path):\n",
    "    # Reading the image using imread() function\n",
    "    image = cv2.imread(image_path)\n",
    "    \n",
    "    # Check if the image is loaded successfully\n",
    "    if image is None:\n",
    "        print(f\"Error: Unable to load image at path: {image_path}\")\n",
    "    else:\n",
    "        return image\n",
    "\n",
    "# Path to the image file\n",
    "image_path = \"bear.jpg\"\n",
    "\n",
    "# Verify the current working directory and image path\n",
    "print(f\"Current Working Directory: {os.getcwd()}\")\n",
    "print(f\"Image Path: {image_path}\")\n",
    "\n",
    "# Load the image\n",
    "image = load_image(image_path)\n",
    "\n",
    "# Proceed if the image is loaded successfully\n",
    "if image is not None:\n",
    "    # Extracting the height and width of the image\n",
    "    h, w = image.shape[:2]\n",
    "    # Displaying the height and width\n",
    "    print(\"Height = {}, Width = {}\".format(h, w))\n",
    "\n",
    "    # Optionally, display the image to ensure it is loaded correctly\n",
    "    cv2.imshow(\"Loaded Image\", image)\n",
    "    cv2.waitKey(0)\n",
    "    cv2.destroyAllWindows()\n"
   ]
  },
  {
   "cell_type": "markdown",
   "metadata": {},
   "source": [
    "Extracting the RGB Values of a Pixel "
   ]
  },
  {
   "cell_type": "code",
   "execution_count": 6,
   "metadata": {},
   "outputs": [
    {
     "name": "stdout",
     "output_type": "stream",
     "text": [
      "R = 141, G = 124, B = 32\n",
      "B = 32\n"
     ]
    }
   ],
   "source": [
    "# Extracting RGB values.\n",
    "# Here we have randomly chosen a pixel\n",
    "# by passing in 100, 100 for height and width.\n",
    "(B, G, R) = image[100, 100]\n",
    "\n",
    "# Displaying the pixel values\n",
    "print(\"R = {}, G = {}, B = {}\".format(R, G, B))\n",
    "\n",
    "# We can also pass the channel to extract\n",
    "# the value for a specific channel\n",
    "B = image[100, 100, 0]\n",
    "print(\"B = {}\".format(B))"
   ]
  },
  {
   "cell_type": "markdown",
   "metadata": {},
   "source": [
    "Extracting the Region of Interest (ROI) "
   ]
  },
  {
   "cell_type": "code",
   "execution_count": 7,
   "metadata": {},
   "outputs": [
    {
     "data": {
      "text/plain": [
       "-1"
      ]
     },
     "execution_count": 7,
     "metadata": {},
     "output_type": "execute_result"
    }
   ],
   "source": [
    "# We will calculate the region of interest\n",
    "# by slicing the pixels of the image\n",
    "roi = image[100 : 200, 200 : 400]\n",
    "cv2.imshow(\"ROI\", roi)\n",
    "cv2.waitKey(0)"
   ]
  },
  {
   "cell_type": "markdown",
   "metadata": {},
   "source": [
    "Resizing the Image "
   ]
  },
  {
   "cell_type": "code",
   "execution_count": 8,
   "metadata": {},
   "outputs": [
    {
     "data": {
      "text/plain": [
       "-1"
      ]
     },
     "execution_count": 8,
     "metadata": {},
     "output_type": "execute_result"
    }
   ],
   "source": [
    "# resize() function takes 2 parameters,\n",
    "# the image and the dimensions\n",
    "\n",
    "resize = cv2.resize(image, (500, 500))\n",
    "cv2.imshow(\"Resized Image\", resize)\n",
    "cv2.waitKey(0)"
   ]
  },
  {
   "cell_type": "code",
   "execution_count": 9,
   "metadata": {},
   "outputs": [
    {
     "data": {
      "text/plain": [
       "-1"
      ]
     },
     "execution_count": 9,
     "metadata": {},
     "output_type": "execute_result"
    }
   ],
   "source": [
    "# Calculating the ratio\n",
    "ratio = 800 / w\n",
    "\n",
    "# Creating a tuple containing width and height\n",
    "dim = (800, int(h * ratio))\n",
    "\n",
    "# Resizing the image\n",
    "resize_aspect = cv2.resize(image, dim)\n",
    "cv2.imshow(\"Resized Image\", resize_aspect)\n",
    "cv2.waitKey(0)"
   ]
  },
  {
   "cell_type": "markdown",
   "metadata": {},
   "source": [
    "Drawing a Rectangle\n",
    "\n",
    "We can draw a rectangle on the image using rectangle() method. It takes in 5 arguments: \n",
    "\n",
    "* Image \n",
    "* Top-left corner co-ordinates\n",
    "* Bottom-right corner co-ordinates\n",
    "* Color (in BGR format)\n",
    "*  Line width"
   ]
  },
  {
   "cell_type": "code",
   "execution_count": 10,
   "metadata": {},
   "outputs": [],
   "source": [
    "# We are copying the original image,\n",
    "# as it is an in-place operation.\n",
    "output = image.copy()\n",
    "\n",
    "# Using the rectangle() function to create a rectangle.\n",
    "rectangle = cv2.rectangle(output, (1500, 900),\n",
    "                        (600, 400), (255, 0, 0), 2)"
   ]
  },
  {
   "cell_type": "markdown",
   "metadata": {},
   "source": [
    "Displaying text\n",
    "\n",
    "It is also an in-place operation that can be done using the putText() method of OpenCV module. It takes in 7 arguments:\n",
    "\n",
    "* Image\n",
    "* Text to be displayed\n",
    "* Bottom-left corner co-ordinates, from where the text should start\n",
    "* Font\n",
    "* Font size\n",
    "* Color (BGR format)\n",
    "* Line width"
   ]
  },
  {
   "cell_type": "code",
   "execution_count": 14,
   "metadata": {},
   "outputs": [],
   "source": [
    "# Copying the original image\n",
    "output = image.copy()\n",
    "\n",
    "# Adding the text using putText() function\n",
    "text = cv2.putText(output, 'OpenCV Demo', (500, 550),\n",
    "                cv2.FONT_HERSHEY_SIMPLEX, 4, (255, 0, 0), 2)"
   ]
  },
  {
   "cell_type": "code",
   "execution_count": null,
   "metadata": {},
   "outputs": [],
   "source": []
  }
 ],
 "metadata": {
  "kernelspec": {
   "display_name": "Python 3 (ipykernel)",
   "language": "python",
   "name": "python3"
  },
  "language_info": {
   "codemirror_mode": {
    "name": "ipython",
    "version": 3
   },
   "file_extension": ".py",
   "mimetype": "text/x-python",
   "name": "python",
   "nbconvert_exporter": "python",
   "pygments_lexer": "ipython3",
   "version": "3.11.5"
  }
 },
 "nbformat": 4,
 "nbformat_minor": 2
}
