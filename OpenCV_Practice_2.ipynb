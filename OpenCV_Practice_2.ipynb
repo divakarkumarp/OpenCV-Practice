{
 "cells": [
  {
   "cell_type": "markdown",
   "id": "92e898fc",
   "metadata": {},
   "source": [
    "Following types of files are supported in OpenCV library:\n",
    "\n",
    "* Windows bitmaps – *.bmp, *.dib\n",
    "* JPEG files – *.jpeg, *.jpg\n",
    "* Portable Network Graphics – *.png \n",
    "* WebP – *.webp \n",
    "* Sun rasters – *.sr, *.ras \n",
    "* TIFF files – *.tiff, *.tif \n",
    "* Raster and Vector geospatial data supported by GDAL "
   ]
  },
  {
   "cell_type": "markdown",
   "id": "ba1bb5d4",
   "metadata": {},
   "source": [
    "### Reading an image in OpenCV using Python"
   ]
  },
  {
   "cell_type": "code",
   "execution_count": 1,
   "id": "ce5f021b",
   "metadata": {},
   "outputs": [],
   "source": [
    "# Python code to read image\n",
    "import cv2\n",
    "\n",
    "# To read image from disk, we use\n",
    "# cv2.imread function, in below method,\n",
    "img = cv2.imread(\"growing_tomatoes.jpg\", cv2.IMREAD_COLOR)\n",
    "\n",
    "# Creating GUI window to display an image on screen\n",
    "# first Parameter is windows title (should be in string format)\n",
    "# Second Parameter is image array\n",
    "cv2.imshow(\"image\", img)\n",
    "\n",
    "# To hold the window on screen, we use cv2.waitKey method\n",
    "# Once it detected the close input, it will release the control\n",
    "# To the next line\n",
    "# First Parameter is for holding screen for specified milliseconds\n",
    "# It should be positive integer. If 0 pass an parameter, then it will\n",
    "# hold the screen until user close it.\n",
    "cv2.waitKey(0)\n",
    "\n",
    "# It is for removing/deleting created GUI window from screen\n",
    "# and memory\n",
    "cv2.destroyAllWindows()\n"
   ]
  },
  {
   "cell_type": "code",
   "execution_count": 1,
   "id": "a7006c78",
   "metadata": {},
   "outputs": [
    {
     "name": "stdout",
     "output_type": "stream",
     "text": [
      "Note: you may need to restart the kernel to use updated packages.\n"
     ]
    },
    {
     "name": "stderr",
     "output_type": "stream",
     "text": [
      "ERROR: Could not find a version that satisfies the requirement tkinter (from versions: none)\n",
      "ERROR: No matching distribution found for tkinter\n"
     ]
    }
   ],
   "source": [
    "pip install tkinter"
   ]
  },
  {
   "cell_type": "code",
   "execution_count": 1,
   "id": "3cb94d46",
   "metadata": {},
   "outputs": [],
   "source": [
    "#import cv2, numpy and matplotlib libraries\n",
    "import cv2\n",
    "import numpy as np\n",
    "import tkinter as tk\n",
    "import matplotlib.pyplot as plt\n",
    "import matplotlib\n",
    "matplotlib.use('TkAgg') \n",
    "img=cv2.imread(\"growing_tomatoes.jpg\")\n",
    "#Displaying image using plt.imshow() method\n",
    "plt.imshow(img)\n",
    " \n",
    "#hold the window\n",
    "plt.waitforbuttonpress()\n",
    "plt.close('all')\n"
   ]
  },
  {
   "cell_type": "markdown",
   "id": "934d7825",
   "metadata": {},
   "source": [
    "Note: See the difference in colors of images read by cv2 and matplotlib library. Because cv2 uses BGR color format and matplotlib uses RGB color format. To convert BGR to RGB, we us a function:"
   ]
  },
  {
   "cell_type": "code",
   "execution_count": 3,
   "id": "1172c7d8",
   "metadata": {},
   "outputs": [],
   "source": [
    "#import cv2, numpy and matplotlib libraries\n",
    "import cv2\n",
    "import numpy as np\n",
    "import matplotlib.pyplot as plt\n",
    "img=cv2.imread(\"growing_tomatoes.jpg\")\n",
    "\n",
    "# Converting BGR color to RGB color format\n",
    "RGB_img = cv2.cvtColor(img, cv2.COLOR_BGR2RGB)\n",
    "\n",
    "#Displaying image using plt.imshow() method\n",
    "plt.imshow(RGB_img)\n",
    "\n",
    "# hold the window\n",
    "plt.waitforbuttonpress()\n",
    "plt.close('all')"
   ]
  },
  {
   "cell_type": "markdown",
   "id": "3fcf7d0b",
   "metadata": {},
   "source": [
    "Opening in grayscale mode"
   ]
  },
  {
   "cell_type": "code",
   "execution_count": 5,
   "id": "d1fa8fbb",
   "metadata": {},
   "outputs": [],
   "source": [
    "# Python program to explain cv2.imread() method \n",
    "\n",
    "# importing cv2 \n",
    "import cv2 \n",
    "\n",
    "# path \n",
    "path = r'growing_tomatoes.jpg'\n",
    "\n",
    "# Using cv2.imread() method \n",
    "# Using 0 to read image in grayscale mode \n",
    "img = cv2.imread(path, cv2.IMREAD_GRAYSCALE) \n",
    "\n",
    "# Displaying the image \n",
    "cv2.imshow('image', img) \n",
    "cv2.waitKey(0)\n",
    "cv2.destroyAllWindows()\n"
   ]
  },
  {
   "cell_type": "code",
   "execution_count": null,
   "id": "e8324754",
   "metadata": {},
   "outputs": [],
   "source": []
  }
 ],
 "metadata": {
  "kernelspec": {
   "display_name": "Python 3 (ipykernel)",
   "language": "python",
   "name": "python3"
  },
  "language_info": {
   "codemirror_mode": {
    "name": "ipython",
    "version": 3
   },
   "file_extension": ".py",
   "mimetype": "text/x-python",
   "name": "python",
   "nbconvert_exporter": "python",
   "pygments_lexer": "ipython3",
   "version": "3.11.5"
  }
 },
 "nbformat": 4,
 "nbformat_minor": 5
}
